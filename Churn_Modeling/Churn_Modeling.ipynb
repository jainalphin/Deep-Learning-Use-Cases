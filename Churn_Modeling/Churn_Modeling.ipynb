{
  "nbformat": 4,
  "nbformat_minor": 0,
  "metadata": {
    "colab": {
      "name": "Churn Modeling.ipynb",
      "provenance": [],
      "collapsed_sections": [],
      "authorship_tag": "ABX9TyMl7A6JJX2KwN7igCU1guIX",
      "include_colab_link": true
    },
    "kernelspec": {
      "name": "python3",
      "display_name": "Python 3"
    },
    "accelerator": "GPU"
  },
  "cells": [
    {
      "cell_type": "markdown",
      "metadata": {
        "id": "view-in-github",
        "colab_type": "text"
      },
      "source": [
        "<a href=\"https://colab.research.google.com/github/jainalphin99/Deep-Learning-Use-Cases/blob/main/Churn_Modeling/Churn_Modeling.ipynb\" target=\"_parent\"><img src=\"https://colab.research.google.com/assets/colab-badge.svg\" alt=\"Open In Colab\"/></a>"
      ]
    },
    {
      "cell_type": "code",
      "metadata": {
        "id": "Aq_hAR3wegau",
        "colab": {
          "base_uri": "https://localhost:8080/",
          "height": 34
        },
        "outputId": "76bd5904-009b-4d2e-c8ae-a68c04410cc0"
      },
      "source": [
        "from  google.colab import drive\n",
        "drive.mount('/content/drive')"
      ],
      "execution_count": null,
      "outputs": [
        {
          "output_type": "stream",
          "text": [
            "Mounted at /content/drive\n"
          ],
          "name": "stdout"
        }
      ]
    },
    {
      "cell_type": "code",
      "metadata": {
        "id": "a7jlFpqhfRMn"
      },
      "source": [
        "!pip install -q keras"
      ],
      "execution_count": null,
      "outputs": []
    },
    {
      "cell_type": "code",
      "metadata": {
        "id": "vyKb5HDEhF0e",
        "colab": {
          "base_uri": "https://localhost:8080/",
          "height": 34
        },
        "outputId": "cb9a4213-4b01-409f-f79f-cc8b442ee842"
      },
      "source": [
        "from google.colab import drive\n",
        "drive.mount('/content/drive')"
      ],
      "execution_count": null,
      "outputs": [
        {
          "output_type": "stream",
          "text": [
            "Mounted at /content/drive\n"
          ],
          "name": "stdout"
        }
      ]
    },
    {
      "cell_type": "markdown",
      "metadata": {
        "id": "jvb51uYchu4W"
      },
      "source": [
        "Test whether GpU is working or not"
      ]
    },
    {
      "cell_type": "code",
      "metadata": {
        "id": "1XvuAIGvh0xv",
        "colab": {
          "base_uri": "https://localhost:8080/",
          "height": 35
        },
        "outputId": "d1bd9b0a-7d41-41ee-ee97-2996804962ab"
      },
      "source": [
        "import tensorflow as tf\n",
        "tf.test.gpu_device_name()"
      ],
      "execution_count": null,
      "outputs": [
        {
          "output_type": "execute_result",
          "data": {
            "application/vnd.google.colaboratory.intrinsic+json": {
              "type": "string"
            },
            "text/plain": [
              "'/device:GPU:0'"
            ]
          },
          "metadata": {
            "tags": []
          },
          "execution_count": 4
        }
      ]
    },
    {
      "cell_type": "markdown",
      "metadata": {
        "id": "vQBtBKXEic_v"
      },
      "source": [
        "Which Gpu we r using"
      ]
    },
    {
      "cell_type": "code",
      "metadata": {
        "id": "skpiYNodiBuE",
        "colab": {
          "base_uri": "https://localhost:8080/",
          "height": 470
        },
        "outputId": "2c87826e-960c-4d98-aa82-5e74b6548c19"
      },
      "source": [
        "from tensorflow.python.client import device_lib\n",
        "device_lib.list_local_Dxevices()"
      ],
      "execution_count": null,
      "outputs": [
        {
          "output_type": "execute_result",
          "data": {
            "text/plain": [
              "[name: \"/device:CPU:0\"\n",
              " device_type: \"CPU\"\n",
              " memory_limit: 268435456\n",
              " locality {\n",
              " }\n",
              " incarnation: 3310470857183901972, name: \"/device:XLA_CPU:0\"\n",
              " device_type: \"XLA_CPU\"\n",
              " memory_limit: 17179869184\n",
              " locality {\n",
              " }\n",
              " incarnation: 3239770366371107609\n",
              " physical_device_desc: \"device: XLA_CPU device\", name: \"/device:XLA_GPU:0\"\n",
              " device_type: \"XLA_GPU\"\n",
              " memory_limit: 17179869184\n",
              " locality {\n",
              " }\n",
              " incarnation: 12671049739626151835\n",
              " physical_device_desc: \"device: XLA_GPU device\", name: \"/device:GPU:0\"\n",
              " device_type: \"GPU\"\n",
              " memory_limit: 11146783616\n",
              " locality {\n",
              "   bus_id: 1\n",
              "   links {\n",
              "   }\n",
              " }\n",
              " incarnation: 12484238989369391846\n",
              " physical_device_desc: \"device: 0, name: Tesla K80, pci bus id: 0000:00:04.0, compute capability: 3.7\"]"
            ]
          },
          "metadata": {
            "tags": []
          },
          "execution_count": 5
        }
      ]
    },
    {
      "cell_type": "code",
      "metadata": {
        "id": "XF8R84vYjEAE"
      },
      "source": [
        "import pandas as pd\n",
        "import matplotlib.pyplot as plt\n",
        "import numpy as np"
      ],
      "execution_count": null,
      "outputs": []
    },
    {
      "cell_type": "code",
      "metadata": {
        "id": "DzT2_-Jxjc5u",
        "colab": {
          "base_uri": "https://localhost:8080/",
          "height": 1000
        },
        "outputId": "36f64067-c6e4-4d5f-e37e-f620ee863517"
      },
      "source": [
        "# Artificial Neural Network\n",
        "\n",
        "\n",
        "# Part 1 - Data Preprocessing\n",
        "\n",
        "# Importing the libraries\n",
        "import numpy as np\n",
        "import matplotlib.pyplot as plt\n",
        "import pandas as pd\n",
        "\n",
        "# Importing the dataset\n",
        "dataset = pd.read_csv('/content/drive/My Drive/Colab Notebooks/ANN/Churn_Modelling.csv')\n",
        "X = dataset.iloc[:, 3:13]\n",
        "y = dataset.iloc[:, 13]\n",
        "\n",
        "#Create dummy variables\n",
        "geography=pd.get_dummies(X[\"Geography\"],drop_first=True)\n",
        "gender=pd.get_dummies(X['Gender'],drop_first=True)\n",
        "\n",
        "## Concatenate the Data Frames\n",
        "\n",
        "X=pd.concat([X,geography,gender],axis=1)\n",
        "\n",
        "## Drop Unnecessary columns\n",
        "X=X.drop(['Geography','Gender'],axis=1)\n",
        "\n",
        "# Splitting the dataset into the Training set and Test set\n",
        "from sklearn.model_selection import train_test_split\n",
        "X_train, X_test, y_train, y_test = train_test_split(X, y, test_size = 0.2, random_state = 0)\n",
        "\n",
        "# Feature Scaling\n",
        "from sklearn.preprocessing import StandardScaler\n",
        "sc = StandardScaler()\n",
        "X_train = sc.fit_transform(X_train)\n",
        "X_test = sc.transform(X_test)\n",
        "\n",
        "# Part 2 - Now let's make the ANN!\n",
        "\n",
        "# Importing the Keras libraries and packages\n",
        "import keras\n",
        "from keras.models import Sequential\n",
        "from keras.layers import Dense\n",
        "from keras.layers import LeakyReLU,PReLU,ELU\n",
        "from keras.layers import Dropout\n",
        "\n",
        "\n",
        "# Initialising the ANN\n",
        "classifier = Sequential()\n",
        "\n",
        "# Adding the input layer and the first hidden layer\n",
        "classifier.add(Dense(units = 6, kernel_initializer ='he_uniform',activation='relu',input_dim = 11))\n",
        "\n",
        "# Adding the second hidden layer\n",
        "classifier.add(Dense(units = 6, kernel_initializer = 'he_uniform',activation='relu'))\n",
        "# Adding the output layer\n",
        "classifier.add(Dense(units = 1, kernel_initializer = 'glorot_uniform', activation = 'sigmoid'))\n",
        "\n",
        "# Compiling the ANN\n",
        "classifier.compile(optimizer = 'adam', loss = 'binary_crossentropy', metrics = ['accuracy'])\n",
        "\n",
        "# Fitting the ANN to the Training set\n",
        "model_history=classifier.fit(X_train, y_train,validation_split=0.33, batch_size = 10, epochs = 100)\n",
        "\n",
        "\n",
        "\n",
        "# Part 3 - Making the predictions and evaluating the model\n",
        "\n",
        "# Predicting the Test set results\n",
        "y_pred = classifier.predict(X_test)\n",
        "y_pred = (y_pred > 0.5)\n",
        "\n",
        "# Making the Confusion Matrix\n",
        "from sklearn.metrics import confusion_matrix\n",
        "cm = confusion_matrix(y_test, y_pred)\n",
        "\n",
        "# Calculate the Accuracy\n",
        "from sklearn.metrics import accuracy_score\n",
        "score=accuracy_score(y_pred,y_test)\n",
        "\n",
        "\n",
        "\n",
        "\n"
      ],
      "execution_count": null,
      "outputs": [
        {
          "output_type": "stream",
          "text": [
            "Epoch 1/100\n",
            "536/536 [==============================] - 2s 4ms/step - loss: 0.5147 - accuracy: 0.7746 - val_loss: 0.4773 - val_accuracy: 0.7955\n",
            "Epoch 2/100\n",
            "536/536 [==============================] - 2s 4ms/step - loss: 0.4590 - accuracy: 0.8016 - val_loss: 0.4603 - val_accuracy: 0.7974\n",
            "Epoch 3/100\n",
            "536/536 [==============================] - 2s 4ms/step - loss: 0.4451 - accuracy: 0.8046 - val_loss: 0.4533 - val_accuracy: 0.8023\n",
            "Epoch 4/100\n",
            "536/536 [==============================] - 2s 4ms/step - loss: 0.4372 - accuracy: 0.8085 - val_loss: 0.4457 - val_accuracy: 0.8039\n",
            "Epoch 5/100\n",
            "536/536 [==============================] - 2s 4ms/step - loss: 0.4306 - accuracy: 0.8097 - val_loss: 0.4396 - val_accuracy: 0.8088\n",
            "Epoch 6/100\n",
            "536/536 [==============================] - 2s 4ms/step - loss: 0.4244 - accuracy: 0.8166 - val_loss: 0.4345 - val_accuracy: 0.8088\n",
            "Epoch 7/100\n",
            "536/536 [==============================] - 2s 4ms/step - loss: 0.4191 - accuracy: 0.8209 - val_loss: 0.4280 - val_accuracy: 0.8141\n",
            "Epoch 8/100\n",
            "536/536 [==============================] - 2s 4ms/step - loss: 0.4135 - accuracy: 0.8266 - val_loss: 0.4212 - val_accuracy: 0.8183\n",
            "Epoch 9/100\n",
            "536/536 [==============================] - 2s 4ms/step - loss: 0.4071 - accuracy: 0.8281 - val_loss: 0.4145 - val_accuracy: 0.8224\n",
            "Epoch 10/100\n",
            "536/536 [==============================] - 2s 4ms/step - loss: 0.3992 - accuracy: 0.8309 - val_loss: 0.4087 - val_accuracy: 0.8224\n",
            "Epoch 11/100\n",
            "536/536 [==============================] - 2s 4ms/step - loss: 0.3930 - accuracy: 0.8324 - val_loss: 0.4029 - val_accuracy: 0.8247\n",
            "Epoch 12/100\n",
            "536/536 [==============================] - 2s 4ms/step - loss: 0.3879 - accuracy: 0.8321 - val_loss: 0.3985 - val_accuracy: 0.8247\n",
            "Epoch 13/100\n",
            "536/536 [==============================] - 2s 4ms/step - loss: 0.3838 - accuracy: 0.8336 - val_loss: 0.3962 - val_accuracy: 0.8270\n",
            "Epoch 14/100\n",
            "536/536 [==============================] - 2s 4ms/step - loss: 0.3795 - accuracy: 0.8345 - val_loss: 0.3932 - val_accuracy: 0.8296\n",
            "Epoch 15/100\n",
            "536/536 [==============================] - 2s 4ms/step - loss: 0.3754 - accuracy: 0.8345 - val_loss: 0.3914 - val_accuracy: 0.8326\n",
            "Epoch 16/100\n",
            "536/536 [==============================] - 2s 4ms/step - loss: 0.3717 - accuracy: 0.8386 - val_loss: 0.3886 - val_accuracy: 0.8360\n",
            "Epoch 17/100\n",
            "536/536 [==============================] - 2s 4ms/step - loss: 0.3679 - accuracy: 0.8418 - val_loss: 0.3873 - val_accuracy: 0.8349\n",
            "Epoch 18/100\n",
            "536/536 [==============================] - 2s 5ms/step - loss: 0.3648 - accuracy: 0.8455 - val_loss: 0.3849 - val_accuracy: 0.8372\n",
            "Epoch 19/100\n",
            "536/536 [==============================] - 2s 5ms/step - loss: 0.3624 - accuracy: 0.8462 - val_loss: 0.3824 - val_accuracy: 0.8402\n",
            "Epoch 20/100\n",
            "536/536 [==============================] - 2s 5ms/step - loss: 0.3597 - accuracy: 0.8481 - val_loss: 0.3815 - val_accuracy: 0.8398\n",
            "Epoch 21/100\n",
            "536/536 [==============================] - 2s 5ms/step - loss: 0.3578 - accuracy: 0.8509 - val_loss: 0.3817 - val_accuracy: 0.8360\n",
            "Epoch 22/100\n",
            "536/536 [==============================] - 2s 4ms/step - loss: 0.3557 - accuracy: 0.8503 - val_loss: 0.3786 - val_accuracy: 0.8410\n",
            "Epoch 23/100\n",
            "536/536 [==============================] - 2s 4ms/step - loss: 0.3544 - accuracy: 0.8511 - val_loss: 0.3776 - val_accuracy: 0.8398\n",
            "Epoch 24/100\n",
            "536/536 [==============================] - 2s 4ms/step - loss: 0.3532 - accuracy: 0.8543 - val_loss: 0.3766 - val_accuracy: 0.8432\n",
            "Epoch 25/100\n",
            "536/536 [==============================] - 2s 4ms/step - loss: 0.3512 - accuracy: 0.8539 - val_loss: 0.3752 - val_accuracy: 0.8417\n",
            "Epoch 26/100\n",
            "536/536 [==============================] - 2s 4ms/step - loss: 0.3497 - accuracy: 0.8554 - val_loss: 0.3776 - val_accuracy: 0.8395\n",
            "Epoch 27/100\n",
            "536/536 [==============================] - 2s 4ms/step - loss: 0.3485 - accuracy: 0.8537 - val_loss: 0.3728 - val_accuracy: 0.8448\n",
            "Epoch 28/100\n",
            "536/536 [==============================] - 2s 4ms/step - loss: 0.3473 - accuracy: 0.8567 - val_loss: 0.3756 - val_accuracy: 0.8410\n",
            "Epoch 29/100\n",
            "536/536 [==============================] - 2s 4ms/step - loss: 0.3456 - accuracy: 0.8574 - val_loss: 0.3724 - val_accuracy: 0.8455\n",
            "Epoch 30/100\n",
            "536/536 [==============================] - 2s 4ms/step - loss: 0.3446 - accuracy: 0.8574 - val_loss: 0.3737 - val_accuracy: 0.8417\n",
            "Epoch 31/100\n",
            "536/536 [==============================] - 2s 4ms/step - loss: 0.3435 - accuracy: 0.8559 - val_loss: 0.3717 - val_accuracy: 0.8432\n",
            "Epoch 32/100\n",
            "536/536 [==============================] - 2s 4ms/step - loss: 0.3415 - accuracy: 0.8591 - val_loss: 0.3702 - val_accuracy: 0.8448\n",
            "Epoch 33/100\n",
            "536/536 [==============================] - 2s 4ms/step - loss: 0.3411 - accuracy: 0.8604 - val_loss: 0.3696 - val_accuracy: 0.8448\n",
            "Epoch 34/100\n",
            "536/536 [==============================] - 2s 4ms/step - loss: 0.3399 - accuracy: 0.8567 - val_loss: 0.3705 - val_accuracy: 0.8421\n",
            "Epoch 35/100\n",
            "536/536 [==============================] - 2s 4ms/step - loss: 0.3382 - accuracy: 0.8608 - val_loss: 0.3679 - val_accuracy: 0.8474\n",
            "Epoch 36/100\n",
            "536/536 [==============================] - 2s 4ms/step - loss: 0.3377 - accuracy: 0.8608 - val_loss: 0.3684 - val_accuracy: 0.8466\n",
            "Epoch 37/100\n",
            "536/536 [==============================] - 2s 4ms/step - loss: 0.3375 - accuracy: 0.8584 - val_loss: 0.3663 - val_accuracy: 0.8497\n",
            "Epoch 38/100\n",
            "536/536 [==============================] - 2s 4ms/step - loss: 0.3356 - accuracy: 0.8617 - val_loss: 0.3684 - val_accuracy: 0.8432\n",
            "Epoch 39/100\n",
            "536/536 [==============================] - 2s 4ms/step - loss: 0.3346 - accuracy: 0.8608 - val_loss: 0.3662 - val_accuracy: 0.8485\n",
            "Epoch 40/100\n",
            "536/536 [==============================] - 2s 4ms/step - loss: 0.3343 - accuracy: 0.8602 - val_loss: 0.3665 - val_accuracy: 0.8470\n",
            "Epoch 41/100\n",
            "536/536 [==============================] - 2s 4ms/step - loss: 0.3327 - accuracy: 0.8628 - val_loss: 0.3646 - val_accuracy: 0.8542\n",
            "Epoch 42/100\n",
            "536/536 [==============================] - 2s 4ms/step - loss: 0.3325 - accuracy: 0.8602 - val_loss: 0.3652 - val_accuracy: 0.8497\n",
            "Epoch 43/100\n",
            "536/536 [==============================] - 2s 4ms/step - loss: 0.3313 - accuracy: 0.8602 - val_loss: 0.3653 - val_accuracy: 0.8523\n",
            "Epoch 44/100\n",
            "536/536 [==============================] - 2s 4ms/step - loss: 0.3316 - accuracy: 0.8651 - val_loss: 0.3632 - val_accuracy: 0.8519\n",
            "Epoch 45/100\n",
            "536/536 [==============================] - 2s 4ms/step - loss: 0.3308 - accuracy: 0.8623 - val_loss: 0.3648 - val_accuracy: 0.8535\n",
            "Epoch 46/100\n",
            "536/536 [==============================] - 2s 4ms/step - loss: 0.3307 - accuracy: 0.8634 - val_loss: 0.3647 - val_accuracy: 0.8512\n",
            "Epoch 47/100\n",
            "536/536 [==============================] - 2s 4ms/step - loss: 0.3303 - accuracy: 0.8627 - val_loss: 0.3627 - val_accuracy: 0.8512\n",
            "Epoch 48/100\n",
            "536/536 [==============================] - 2s 4ms/step - loss: 0.3302 - accuracy: 0.8630 - val_loss: 0.3634 - val_accuracy: 0.8501\n",
            "Epoch 49/100\n",
            "536/536 [==============================] - 2s 4ms/step - loss: 0.3297 - accuracy: 0.8643 - val_loss: 0.3625 - val_accuracy: 0.8527\n",
            "Epoch 50/100\n",
            "536/536 [==============================] - 2s 4ms/step - loss: 0.3292 - accuracy: 0.8628 - val_loss: 0.3621 - val_accuracy: 0.8535\n",
            "Epoch 51/100\n",
            "536/536 [==============================] - 2s 4ms/step - loss: 0.3290 - accuracy: 0.8628 - val_loss: 0.3628 - val_accuracy: 0.8527\n",
            "Epoch 52/100\n",
            "536/536 [==============================] - 2s 4ms/step - loss: 0.3287 - accuracy: 0.8651 - val_loss: 0.3634 - val_accuracy: 0.8538\n",
            "Epoch 53/100\n",
            "536/536 [==============================] - 2s 4ms/step - loss: 0.3284 - accuracy: 0.8625 - val_loss: 0.3626 - val_accuracy: 0.8519\n",
            "Epoch 54/100\n",
            "536/536 [==============================] - 2s 4ms/step - loss: 0.3277 - accuracy: 0.8645 - val_loss: 0.3626 - val_accuracy: 0.8550\n",
            "Epoch 55/100\n",
            "536/536 [==============================] - 2s 4ms/step - loss: 0.3274 - accuracy: 0.8649 - val_loss: 0.3627 - val_accuracy: 0.8531\n",
            "Epoch 56/100\n",
            "536/536 [==============================] - 2s 4ms/step - loss: 0.3282 - accuracy: 0.8627 - val_loss: 0.3619 - val_accuracy: 0.8527\n",
            "Epoch 57/100\n",
            "536/536 [==============================] - 2s 4ms/step - loss: 0.3277 - accuracy: 0.8651 - val_loss: 0.3620 - val_accuracy: 0.8531\n",
            "Epoch 58/100\n",
            "536/536 [==============================] - 2s 4ms/step - loss: 0.3271 - accuracy: 0.8627 - val_loss: 0.3637 - val_accuracy: 0.8504\n",
            "Epoch 59/100\n",
            "536/536 [==============================] - 2s 4ms/step - loss: 0.3274 - accuracy: 0.8645 - val_loss: 0.3634 - val_accuracy: 0.8531\n",
            "Epoch 60/100\n",
            "536/536 [==============================] - 2s 4ms/step - loss: 0.3272 - accuracy: 0.8649 - val_loss: 0.3626 - val_accuracy: 0.8508\n",
            "Epoch 61/100\n",
            "536/536 [==============================] - 2s 4ms/step - loss: 0.3266 - accuracy: 0.8621 - val_loss: 0.3619 - val_accuracy: 0.8546\n",
            "Epoch 62/100\n",
            "536/536 [==============================] - 2s 4ms/step - loss: 0.3258 - accuracy: 0.8625 - val_loss: 0.3623 - val_accuracy: 0.8519\n",
            "Epoch 63/100\n",
            "536/536 [==============================] - 2s 4ms/step - loss: 0.3265 - accuracy: 0.8643 - val_loss: 0.3618 - val_accuracy: 0.8535\n",
            "Epoch 64/100\n",
            "536/536 [==============================] - 2s 4ms/step - loss: 0.3269 - accuracy: 0.8642 - val_loss: 0.3609 - val_accuracy: 0.8542\n",
            "Epoch 65/100\n",
            "536/536 [==============================] - 2s 4ms/step - loss: 0.3266 - accuracy: 0.8642 - val_loss: 0.3612 - val_accuracy: 0.8519\n",
            "Epoch 66/100\n",
            "536/536 [==============================] - 2s 4ms/step - loss: 0.3258 - accuracy: 0.8643 - val_loss: 0.3611 - val_accuracy: 0.8550\n",
            "Epoch 67/100\n",
            "536/536 [==============================] - 2s 4ms/step - loss: 0.3257 - accuracy: 0.8643 - val_loss: 0.3617 - val_accuracy: 0.8542\n",
            "Epoch 68/100\n",
            "536/536 [==============================] - 2s 4ms/step - loss: 0.3262 - accuracy: 0.8640 - val_loss: 0.3611 - val_accuracy: 0.8538\n",
            "Epoch 69/100\n",
            "536/536 [==============================] - 2s 4ms/step - loss: 0.3259 - accuracy: 0.8643 - val_loss: 0.3670 - val_accuracy: 0.8561\n",
            "Epoch 70/100\n",
            "536/536 [==============================] - 2s 4ms/step - loss: 0.3255 - accuracy: 0.8664 - val_loss: 0.3637 - val_accuracy: 0.8535\n",
            "Epoch 71/100\n",
            "536/536 [==============================] - 2s 4ms/step - loss: 0.3253 - accuracy: 0.8647 - val_loss: 0.3629 - val_accuracy: 0.8557\n",
            "Epoch 72/100\n",
            "536/536 [==============================] - 2s 4ms/step - loss: 0.3253 - accuracy: 0.8662 - val_loss: 0.3614 - val_accuracy: 0.8535\n",
            "Epoch 73/100\n",
            "536/536 [==============================] - 2s 4ms/step - loss: 0.3258 - accuracy: 0.8643 - val_loss: 0.3618 - val_accuracy: 0.8527\n",
            "Epoch 74/100\n",
            "536/536 [==============================] - 2s 4ms/step - loss: 0.3250 - accuracy: 0.8645 - val_loss: 0.3625 - val_accuracy: 0.8535\n",
            "Epoch 75/100\n",
            "536/536 [==============================] - 2s 4ms/step - loss: 0.3256 - accuracy: 0.8640 - val_loss: 0.3614 - val_accuracy: 0.8531\n",
            "Epoch 76/100\n",
            "536/536 [==============================] - 2s 4ms/step - loss: 0.3252 - accuracy: 0.8636 - val_loss: 0.3618 - val_accuracy: 0.8519\n",
            "Epoch 77/100\n",
            "536/536 [==============================] - 2s 4ms/step - loss: 0.3252 - accuracy: 0.8638 - val_loss: 0.3603 - val_accuracy: 0.8546\n",
            "Epoch 78/100\n",
            "536/536 [==============================] - 2s 4ms/step - loss: 0.3248 - accuracy: 0.8653 - val_loss: 0.3629 - val_accuracy: 0.8542\n",
            "Epoch 79/100\n",
            "536/536 [==============================] - 2s 4ms/step - loss: 0.3253 - accuracy: 0.8632 - val_loss: 0.3598 - val_accuracy: 0.8550\n",
            "Epoch 80/100\n",
            "536/536 [==============================] - 2s 4ms/step - loss: 0.3253 - accuracy: 0.8638 - val_loss: 0.3603 - val_accuracy: 0.8546\n",
            "Epoch 81/100\n",
            "536/536 [==============================] - 2s 4ms/step - loss: 0.3251 - accuracy: 0.8643 - val_loss: 0.3628 - val_accuracy: 0.8550\n",
            "Epoch 82/100\n",
            "536/536 [==============================] - 2s 4ms/step - loss: 0.3241 - accuracy: 0.8670 - val_loss: 0.3606 - val_accuracy: 0.8531\n",
            "Epoch 83/100\n",
            "536/536 [==============================] - 2s 4ms/step - loss: 0.3245 - accuracy: 0.8645 - val_loss: 0.3618 - val_accuracy: 0.8527\n",
            "Epoch 84/100\n",
            "536/536 [==============================] - 2s 4ms/step - loss: 0.3244 - accuracy: 0.8638 - val_loss: 0.3608 - val_accuracy: 0.8527\n",
            "Epoch 85/100\n",
            "536/536 [==============================] - 2s 5ms/step - loss: 0.3251 - accuracy: 0.8647 - val_loss: 0.3604 - val_accuracy: 0.8538\n",
            "Epoch 86/100\n",
            "536/536 [==============================] - 2s 4ms/step - loss: 0.3240 - accuracy: 0.8651 - val_loss: 0.3616 - val_accuracy: 0.8542\n",
            "Epoch 87/100\n",
            "536/536 [==============================] - 2s 4ms/step - loss: 0.3241 - accuracy: 0.8600 - val_loss: 0.3635 - val_accuracy: 0.8516\n",
            "Epoch 88/100\n",
            "536/536 [==============================] - 2s 4ms/step - loss: 0.3239 - accuracy: 0.8651 - val_loss: 0.3610 - val_accuracy: 0.8527\n",
            "Epoch 89/100\n",
            "536/536 [==============================] - 2s 4ms/step - loss: 0.3237 - accuracy: 0.8643 - val_loss: 0.3623 - val_accuracy: 0.8557\n",
            "Epoch 90/100\n",
            "536/536 [==============================] - 2s 4ms/step - loss: 0.3239 - accuracy: 0.8642 - val_loss: 0.3603 - val_accuracy: 0.8535\n",
            "Epoch 91/100\n",
            "536/536 [==============================] - 2s 4ms/step - loss: 0.3239 - accuracy: 0.8653 - val_loss: 0.3599 - val_accuracy: 0.8546\n",
            "Epoch 92/100\n",
            "536/536 [==============================] - 2s 4ms/step - loss: 0.3237 - accuracy: 0.8670 - val_loss: 0.3621 - val_accuracy: 0.8546\n",
            "Epoch 93/100\n",
            "536/536 [==============================] - 2s 4ms/step - loss: 0.3243 - accuracy: 0.8638 - val_loss: 0.3618 - val_accuracy: 0.8523\n",
            "Epoch 94/100\n",
            "536/536 [==============================] - 2s 4ms/step - loss: 0.3241 - accuracy: 0.8653 - val_loss: 0.3617 - val_accuracy: 0.8493\n",
            "Epoch 95/100\n",
            "536/536 [==============================] - 2s 4ms/step - loss: 0.3236 - accuracy: 0.8645 - val_loss: 0.3622 - val_accuracy: 0.8508\n",
            "Epoch 96/100\n",
            "536/536 [==============================] - 2s 4ms/step - loss: 0.3228 - accuracy: 0.8660 - val_loss: 0.3637 - val_accuracy: 0.8493\n",
            "Epoch 97/100\n",
            "536/536 [==============================] - 2s 4ms/step - loss: 0.3237 - accuracy: 0.8660 - val_loss: 0.3613 - val_accuracy: 0.8554\n",
            "Epoch 98/100\n",
            "536/536 [==============================] - 2s 4ms/step - loss: 0.3237 - accuracy: 0.8632 - val_loss: 0.3623 - val_accuracy: 0.8493\n",
            "Epoch 99/100\n",
            "536/536 [==============================] - 2s 4ms/step - loss: 0.3240 - accuracy: 0.8651 - val_loss: 0.3602 - val_accuracy: 0.8504\n",
            "Epoch 100/100\n",
            "536/536 [==============================] - 2s 4ms/step - loss: 0.3231 - accuracy: 0.8647 - val_loss: 0.3605 - val_accuracy: 0.8554\n"
          ],
          "name": "stdout"
        }
      ]
    },
    {
      "cell_type": "code",
      "metadata": {
        "id": "sF0895ZXnHum",
        "colab": {
          "base_uri": "https://localhost:8080/",
          "height": 50
        },
        "outputId": "e71d9e90-69de-4290-b229-862c167e291f"
      },
      "source": [
        "cm"
      ],
      "execution_count": null,
      "outputs": [
        {
          "output_type": "execute_result",
          "data": {
            "text/plain": [
              "array([[1494,  101],\n",
              "       [ 195,  210]])"
            ]
          },
          "metadata": {
            "tags": []
          },
          "execution_count": 14
        }
      ]
    },
    {
      "cell_type": "code",
      "metadata": {
        "id": "5N4QlYojnJ4L",
        "colab": {
          "base_uri": "https://localhost:8080/",
          "height": 34
        },
        "outputId": "cf440a23-a239-40b0-883b-a0bd8a47c334"
      },
      "source": [
        "score "
      ],
      "execution_count": null,
      "outputs": [
        {
          "output_type": "execute_result",
          "data": {
            "text/plain": [
              "0.852"
            ]
          },
          "metadata": {
            "tags": []
          },
          "execution_count": 17
        }
      ]
    }
  ]
}